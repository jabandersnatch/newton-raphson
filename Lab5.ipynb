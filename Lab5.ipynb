{
 "cells": [
  {
   "cell_type": "markdown",
   "metadata": {},
   "source": [
    "# Lab 5: Optimization of functions\n",
    "# Authors: Juan Andrés Méndez, German Montoya, Carlos Lozano\n",
    "In this lab we are going to learn how to optimize functions using Python.\n",
    "We will be using the `scipy`, `numpy`, `sympy` and `matplotlib` libraries."
   ]
  },
  {
   "cell_type": "markdown",
   "metadata": {},
   "source": [
    "## What is function optimization?\n",
    "\n",
    "![curve_opt](assets/curve_opt.gif)\n",
    "\n",
    "Function optimization is the process of finding the input value that results in the minimum or maximum output value of a given function. This is a common problem in mathematics and computer science, and it has many practical applications in fields such as engineering, economics, and machine learning."
   ]
  },
  {
   "cell_type": "markdown",
   "metadata": {},
   "source": [
    "## How it diferenciates from optimization techniques such as Pyomo and GAMS?\n",
    "\n",
    "![constraint_based_vs_func_based](assets/constraint-based-vs-func-based.jpg)\n",
    "\n",
    "Optimization techniques such as Pyomo and GAMS are used to solve complex optimization problems that involve multiple variables and constraints. These tools are typically used to find the optimal solution to a given problem, subject to a set of constraints. In contrast, function optimization is focused on finding the optimal value of a single function, without any constraints. Just given a certain range of values, we want to find the value that minimizes or maximizes the function."
   ]
  },
  {
   "cell_type": "markdown",
   "metadata": {},
   "source": [
    "## What are the most common optimization algorithms?\n",
    "There are many optimization algorithms that can be used to optimize functions. Some of the most common ones include:\n",
    "- **Gradient descent**: An iterative optimization algorithm that uses the gradient of the function to find the minimum value.\n",
    "- **Gauss-Newton algorithm**: An optimization algorithm that is used to solve non-linear least squares problems.\n",
    "- **Hill climbing**: An optimization algorithm that starts at a random point and iteratively moves towards the direction of the steepest ascent.\n",
    "- **Simplex algorithm**: An optimization algorithm that is used to solve linear programming problems.\n",
    "- **Levenberg-Marquardt algorithm**: An optimization algorithm that is used to solve non-linear least squares problems.\n",
    "- **Newton's method**: An optimization algorithm that uses the second derivative of the function to find the minimum value."
   ]
  },
  {
   "cell_type": "markdown",
   "metadata": {},
   "source": [
    "> Each of these algorithms has its own strengths and weaknesses, and the choice of algorithm will depend on the specific problem that you are trying to solve. Due to time constraints, we will focus on the Newton's method in this lab.\n"
   ]
  },
  {
   "cell_type": "markdown",
   "metadata": {},
   "source": [
    "# Newton's method\n",
    "The objective for this lab is to implement the Newton's method to find the minimum value of a given function. The Newton's method is an iterative optimization algorithm that uses the second derivative of the function to find the minimum value. The algorithm works by starting at an initial guess for the minimum value, and then iteratively updating the guess until it converges to the true minimum value.\n",
    "In this lab, we will implement the Newton Raphson method in both 1D and 2D functions.\n",
    "\n",
    "For a visual explanation please see the following video:\n",
    "[Newton's method](https://www.youtube.com/watch?v=acsSIyDugP0)"
   ]
  },
  {
   "cell_type": "markdown",
   "metadata": {},
   "source": [
    "## 1D Newton's Method\n",
    "\n",
    "Now that we have the bases covered, let's start by defining the Newton's method for 1D functions. The algorithm is as follows:\n",
    "\n",
    "---\n",
    "\n",
    "**Algorithm: 1D Newton's Method**\n",
    "\n",
    "---\n",
    "\n",
    "1. Initialize:\n",
    "   - $i \\leftarrow 0$\n",
    "   - $x_i \\leftarrow$ initial guess\n",
    "   - tolerance $\\leftarrow$ 0.0001\n",
    "   - $\\alpha \\leftarrow$ learning rate = 1\n",
    "2. **while** $|f(x_i)| >$ tolerance **do**\n",
    "   - Compute the next approximation:\n",
    "     - $x_{i+1} \\leftarrow x_i - \\alpha * \\frac{f(x_i)}{f'(x_i)}$\n",
    "   - Increment the iteration count:\n",
    "     - $i \\leftarrow i + 1$\n",
    "3. **end while**\n",
    "4. Converged solution:\n",
    "   - $x_{min} \\leftarrow x_i$\n",
    "\n",
    "**return** $x_{min}$\n"
   ]
  },
  {
   "cell_type": "markdown",
   "metadata": {},
   "source": [
    "## 2D Newton's Method\n",
    "\n",
    "The Newton's method for 2D functions is similar to the 1D case, but it involves computing the gradient and the Hessian of the function. The algorithm is as follows:\n",
    "\n",
    "---\n",
    "\n",
    "**Algorithm: 2D Newton's Method**\n",
    "\n",
    "---\n",
    "\n",
    "1. Initialize:\n",
    "   - $i \\leftarrow 0$\n",
    "   - $x_i \\leftarrow$ initial guess\n",
    "   - tolerance $\\leftarrow$ 0.0001\n",
    "   - $\\alpha \\leftarrow$ step size = 1\n",
    "2. **while** $||\\nabla f(x_i)|| >$ tolerance **do**\n",
    "    - Compute the next approximation:\n",
    "      - $x_{i+1} \\leftarrow x_i - \\alpha * H^{-1}(x_i) \\nabla f(x_i)$\n",
    "    - Increment the iteration count:\n",
    "      - $i \\leftarrow i + 1$\n",
    "\n",
    "3. **end while**\n",
    "4. Converged solution:\n",
    "   - $x_{min} \\leftarrow x_i$\n",
    "\n",
    "**return** $x_{min}$\n",
    "\n",
    "Where $H$ is the Hessian matrix of the function, $\\nabla f(x)$ is the gradient of the function, and $||\\nabla f(x_i)||$ is the norm of the gradient."
   ]
  },
  {
   "cell_type": "markdown",
   "metadata": {},
   "source": [
    "# Before we start\n",
    "![woah-slow-down](assets/woah-slow-down.gif)\n",
    "\n",
    "Now that we have the theory covered, we now need to know how we can use Python to implement the Newton's method. We will be using the `scipy`, `numpy`, `sympy` and `matplotlib` libraries to implement the algorithm.\n",
    "\n",
    "Here we are going to cover up the basics of these libraries:"
   ]
  },
  {
   "cell_type": "markdown",
   "metadata": {},
   "source": [
    "Let's start by exploring the `numpy` library.\n",
    "\n",
    "## Numpy\n",
    "NumPy is a powerful Python library that is used for numerical computing. It provides support for large, multi-dimensional arrays and matrices, along with a collection of mathematical functions to operate on these arrays. NumPy is widely used in scientific computing, data analysis, and machine learning.\n",
    "We will cover up the following topics:\n",
    "- Creating NumPy arrays\n",
    "- Indexing and slicing arrays\n",
    "- Performing mathematical operations on arrays\n",
    "- Creating linespace and meshgrid"
   ]
  },
  {
   "cell_type": "markdown",
   "metadata": {},
   "source": [
    "### Creating `numpy` arrays\n",
    "\n",
    "To create a NumPy array, you can use the `np.array()` function. You can pass a list, tuple, or any iterable object to the function to create an array. Here's an example:\n",
    "\n",
    "```python\n",
    "import numpy as np\n",
    "\n",
    "# Create a 1D array\n",
    "\n",
    "a = np.array([1, 2, 3, 4, 5])\n",
    "\n",
    "print(a)\n",
    "```\n",
    "\n",
    "Arrays can have multiple dimensions as well. You can create a 2D array by passing a list of lists to the `np.array()` function. Here's an example:\n",
    "\n",
    "```python\n",
    "import numpy as np\n",
    "\n",
    "# Create a 2D array\n",
    "\n",
    "a = np.array([[1, 2, 3], [4, 5, 6], [7, 8, 9]])\n",
    "\n",
    "print(a)\n",
    "```\n",
    "\n",
    "> Create an array with $n\\times m$ dimensions and initialize it with zeros using the `np.zeros()` function. Here's an example:\n",
    "\n",
    "```python\n",
    "import numpy as np\n",
    "\n",
    "# Create a 2D array with zeros\n",
    "\n",
    "a = np.zeros((3, 3))\n",
    "\n",
    "print(a)\n",
    "```"
   ]
  },
  {
   "cell_type": "code",
   "execution_count": null,
   "metadata": {},
   "outputs": [],
   "source": [
    "\"\"\"\n",
    "numpy arrays\n",
    " @TODO: Create a np array for the first 10 prime numbers\n",
    "\"\"\"\n",
    "import numpy as np"
   ]
  },
  {
   "cell_type": "markdown",
   "metadata": {},
   "source": [
    "### Indexing and slicing arrays\n",
    "\n",
    "You can access elements of a NumPy array using indexing and slicing. Indexing is used to access a single element of the array, while slicing is used to access a subset of the array. Here's an example:\n",
    "\n",
    "```python\n",
    "import numpy as np\n",
    "\n",
    "# Create a 1D array\n",
    "\n",
    "a = np.array([1, 2, 3, 4, 5])\n",
    "\n",
    "# Access the first element of the array\n",
    "\n",
    "print(a[0])\n",
    "\n",
    "# Access a subset of the array using slicing\n",
    "\n",
    "print(a[1:4])\n",
    "```"
   ]
  },
  {
   "cell_type": "code",
   "execution_count": null,
   "metadata": {},
   "outputs": [],
   "source": [
    "\"\"\"\n",
    "Indexing and slicing arrays\n",
    "@TODO: For the array created above, bring the last 5 elements\n",
    "\"\"\"\n"
   ]
  },
  {
   "cell_type": "markdown",
   "metadata": {},
   "source": [
    "### Performing mathematical operations on arrays\n",
    "\n",
    "NumPy provides a wide range of mathematical functions that can be used to perform operations on arrays. You can perform element-wise addition, subtraction, multiplication, and division on arrays. Here's an example:\n",
    "\n",
    "```python\n",
    "import numpy as np\n",
    "\n",
    "# Create two arrays\n",
    "\n",
    "a = np.array([1, 2, 3, 4, 5])\n",
    "b = np.array([5, 4, 3, 2, 1])\n",
    "\n",
    "# Perform element-wise addition\n",
    "\n",
    "c = a + b\n",
    "\n",
    "print(c)\n",
    "```\n",
    "\n",
    "> Dot product of two arrays can be calculated using the `np.dot()` function. Here's an example:\n",
    "\n",
    "```python\n",
    "import numpy as np\n",
    "\n",
    "# Create two arrays\n",
    "\n",
    "a = np.array([1, 2, 3])\n",
    "b = np.array([4, 5, 6])\n",
    "\n",
    "# Calculate the dot product\n",
    "\n",
    "c = np.dot(a, b)\n",
    "\n",
    "print(c)\n",
    "```\n",
    "\n",
    "> Matrix multiplication:\n",
    "```python\n",
    "# Create two matrices\n",
    "\n",
    "a = np.array([[1, 2], [3, 4]])\n",
    "b = np.array([[5, 6], [7, 8]])\n",
    "\n",
    "# Perform matrix multiplication\n",
    "\n",
    "c = np.matmul(a, b)\n",
    "\n",
    "print(c)\n",
    "```\n",
    "\n",
    "> Transpose of a matrix:\n",
    "```python\n",
    "# Create a matrix\n",
    "a = np.array([[1, 2], [3, 4]])\n",
    "\n",
    "# Calculate the transpose\n",
    "\n",
    "b = np.transpose(a)\n",
    "\n",
    "print(b)\n",
    "```\n",
    "\n",
    "> Inverse of a matrix:\n",
    "```python\n",
    "# Create a matrix\n",
    "\n",
    "a = np.array([[1, 2], [3, 4]])\n",
    "\n",
    "# Calculate the inverse\n",
    "\n",
    "b = np.linalg.inv(a)\n",
    "\n",
    "print(b)\n",
    "```"
   ]
  },
  {
   "cell_type": "code",
   "execution_count": null,
   "metadata": {},
   "outputs": [],
   "source": [
    "\"\"\"\n",
    "Operations between numpy arrays and scalars\n",
    "@TODO: Do the cross product between the two given matrices\n",
    "\"\"\"\n",
    "\n",
    "a = np.array([[1, 2, 3], [4, 5, 6]])\n",
    "\n",
    "b = np.array([[1, 2, 3], [4, 5, 6]])"
   ]
  },
  {
   "cell_type": "markdown",
   "metadata": {},
   "source": [
    "### Creating linespace and meshgrid\n",
    "\n",
    "NumPy provides functions to create evenly spaced arrays and grids. You can use the `np.linspace()` function to create an array of evenly spaced values between two endpoints. Here's an example:\n",
    "\n",
    "```python\n",
    "\n",
    "x = np.linspace(0, 10, 100)\n",
    "\n",
    "print(x)\n",
    "```\n",
    "\n",
    "Meshgrid is a function that generates coordinate matrices from coordinate vectors. You can use the `np.meshgrid()` function to create a meshgrid of 2D arrays. Here's an example:\n",
    "\n",
    "> Create a meshgrid using the `np.meshgrid()` function. Here's an example:\n",
    "\n",
    "```python\n",
    "\n",
    "x = np.linspace(0, 10, 100)\n",
    "y = np.linspace(0, 10, 100)\n",
    "\n",
    "X, Y = np.meshgrid(x, y)\n",
    "\n",
    "print(X)\n",
    "print(Y)\n",
    "```\n"
   ]
  },
  {
   "cell_type": "code",
   "execution_count": null,
   "metadata": {},
   "outputs": [],
   "source": [
    "\"\"\"\n",
    "Linspaces and meshgrids\n",
    "@TODO: Create a meshgrid for the following x and y values\n",
    "\"\"\"\n",
    "\n",
    "x = np.linspace(0, 1, 5)\n",
    "\n",
    "y = np.linspace(0, 1, 5)\n"
   ]
  },
  {
   "cell_type": "markdown",
   "metadata": {},
   "source": [
    "# Scipy\n",
    "\n",
    "Scipy is a Python library that is used for scientific and technical computing. It provides a wide range of functions for optimization, interpolation, integration, linear algebra, and more. Scipy is built on top of NumPy, and it provides additional functionality that is useful for scientific computing.\n",
    "\n",
    "We will cover up the following topics:\n",
    "- How to create functions in `scipy`\n",
    "- Optimization with `scipy.optimize`\n",
    "- Derivate and integrate with `scipy.misc`\n",
    "- How to create a Hessian matrix using `scipy`"
   ]
  },
  {
   "cell_type": "markdown",
   "metadata": {},
   "source": [
    "### How to create functions in `scipy`\n",
    "\n",
    "For creating a function in `scipy`, there is no need to import any specific module. You can create a function using the `lambda` keyword or by defining a function using the `def` keyword. Here's an example:\n",
    "\n",
    "```python\n",
    "import numpy as np\n",
    "\n",
    "# Create a lambda function\n",
    "\n",
    "f = lambda x: x**2\n",
    "\n",
    "print(f(2))\n",
    "```\n",
    "\n",
    "> You can also define a function using the `def` keyword. Here's an example:\n",
    "\n",
    "```python\n",
    "import numpy as np\n",
    "\n",
    "# 3 variables function\n",
    "\n",
    "def f(x, y, z):\n",
    "    return x**2 + y**2 + z**2\n",
    "\n",
    "print(f(1, 2, 3))\n",
    "```"
   ]
  },
  {
   "cell_type": "markdown",
   "metadata": {},
   "source": [
    "### Optimization with `scipy.optimize`\n",
    "\n",
    "Scipy provides a module called `scipy.optimize` that contains functions for optimization. You can use these functions to find the minimum or maximum value of a function. The `scipy.optimize` module provides several optimization algorithms, including the Newton's method, BFGS, and Nelder-Mead algorithms.\n",
    "\n",
    "> To find the minimum value of a function using the Newton's method, you can use the `scipy.optimize.minimize()` function. Here's an example:\n",
    "\n",
    "**Note**: While some libraries like `scipy.optimize` provide optimization algorithms, it is important to understand the underlying theory and implementation of these algorithms to use them effectively. Thus it wont be valid to use the `scipy.optimize` module in this lab.\n",
    "\n",
    "```python\n",
    "import numpy as np\n",
    "from scipy.optimize import minimize\n",
    "\n",
    "# Define the function\n",
    "\n",
    "def f(x):\n",
    "    return x**2\n",
    "\n",
    "# Find the minimum value of the function\n",
    "\n",
    "result = minimize(f, x0=0)\n",
    "\n",
    "print(result.x)\n",
    "```\n",
    "\n"
   ]
  },
  {
   "cell_type": "code",
   "execution_count": null,
   "metadata": {},
   "outputs": [],
   "source": [
    "\"\"\"\n",
    "using scipy optimize find the minimum of the following function\n",
    "f(x) = x^2 + 10sin(x)\n",
    "\n",
    "@TODO: Find the minimum of the function\n",
    "\"\"\"\n",
    "import scipy.optimize as opt"
   ]
  },
  {
   "cell_type": "markdown",
   "metadata": {},
   "source": [
    "### Derivate and integrate with `scipy.misc`\n",
    "\n",
    "Scipy provides a module called `scipy.misc` that contains functions for numerical differentiation and integration. You can use these functions to compute derivatives and integrals of functions. The `scipy.misc` module provides functions like `derivative()` and `quad()` for numerical differentiation and integration, respectively.\n",
    "\n",
    "> To compute the derivative of a function at a given point, you can use the `scipy.misc.derivative()` function. Here's an example:\n",
    "\n",
    "```python\n",
    "import numpy as np\n",
    "from scipy.misc import derivative\n",
    "\n",
    "# Define the function\n",
    "\n",
    "def f(x):\n",
    "    return x**2\n",
    "\n",
    "# Compute the derivative of the function at x=2\n",
    "\n",
    "result = derivative(f, 2, dx=1e-6)\n",
    "\n",
    "print(result)\n",
    "```\n",
    "\n",
    "> To compute the integral of a function over a given interval, you can use the `scipy.integrate.quad()` function. Here's an example:\n",
    "\n",
    "```python\n",
    "import numpy as np\n",
    "from scipy.integrate import quad\n",
    "\n",
    "# Define the function\n",
    "\n",
    "def f(x):\n",
    "    return x**2\n",
    "\n",
    "# Compute the integral of the function over the interval [0, 1]\n",
    "\n",
    "result, error = quad(f, 0, 1)\n",
    "\n",
    "print(result)\n",
    "```"
   ]
  },
  {
   "cell_type": "code",
   "execution_count": null,
   "metadata": {},
   "outputs": [],
   "source": [
    "\"\"\"\n",
    "using scipy.misc derivative find the derivative of the following function\n",
    "\n",
    "f(x) = x^2 + 10sin(x)\n",
    "@TODO: Find the derivative of the function\n",
    "\"\"\"\n",
    "import scipy.misc as misc"
   ]
  },
  {
   "cell_type": "markdown",
   "metadata": {},
   "source": [
    "### Hessian matrix with `scipy`\n",
    "\n",
    "`scipy` Really doesn't provide a direct way to calculate the Hessian matrix of a function. But you can use the derivative function along with `numpy` to calculate the Hessian matrix. Here's an example:\n",
    "```python\n",
    "\n",
    "import numpy as np\n",
    "from scipy.misc import derivative\n",
    "\n",
    "# Define the function\n",
    "\n",
    "def f(x, y):\n",
    "    return x**2 + y**2\n",
    "\n",
    "# Compute the Hessian matrix of the function at x=1, y=2\n",
    "\n",
    "def dfdx(x, y):\n",
    "    return derivative(lambda x: f(x, y), x, dx=1e-6)\n",
    "\n",
    "def dfdy(x, y):\n",
    "    return derivative(lambda y: f(x, y), y, dx=1e-6)\n",
    "\n",
    "def d2fdxdy(x, y):\n",
    "    return derivative(lambda x: dfdy(x, y), x, dx=1e-6)\n",
    "\n",
    "def d2fdydx(x, y):\n",
    "    return derivative(lambda y: dfdx(x, y), y, dx=1e-6)\n",
    "\n",
    "H = np.array([[dfdx(1, 2), d2fdxdy(1, 2)], [d2fdydx(1, 2), dfdy(1, 2]])\n",
    "\n",
    "print(H)\n",
    "```"
   ]
  },
  {
   "cell_type": "code",
   "execution_count": null,
   "metadata": {},
   "outputs": [],
   "source": [
    "\"\"\"\n",
    "Find the hessian matrix of the following function:\n",
    "f(x,y) = 41x^2 + 2xy + 10y^2\n",
    "@TODO: Use scipy.misc derivative and numpy to find the hessian matrix\n",
    "\"\"\""
   ]
  },
  {
   "cell_type": "markdown",
   "metadata": {},
   "source": [
    "## Sympy\n",
    "\n",
    "Sympy is a Python library that is used for symbolic mathematics. It provides support for symbolic computation, algebraic manipulation, calculus, and more. Sympy is widely used in mathematics, physics, and engineering for solving complex mathematical problems.\n",
    "\n",
    "- How to create symbolic expressions in `sympy`\n",
    "- Differentiate and integrate symbolic expressions\n",
    "- How to create a Hessian matrix using `sympy`\n",
    "- How and when to use the `lambdify` function"
   ]
  },
  {
   "cell_type": "markdown",
   "metadata": {},
   "source": [
    "### How to create symbolic expressions in `sympy`\n",
    "\n",
    "To create a symbolic expression in `sympy`, you need to import the `sympy` library and use the `symbols()` function to define symbolic variables. Here's an example:\n",
    "\n",
    "```python\n",
    "import sympy as sp\n",
    "\n",
    "# Define symbolic variables\n",
    "\n",
    "x, y = sp.symbols('x y')\n",
    "\n",
    "# Create a symbolic expression\n",
    "\n",
    "expr = x**2 + y**2\n",
    "\n",
    "print(expr)\n",
    "```"
   ]
  },
  {
   "cell_type": "code",
   "execution_count": null,
   "metadata": {},
   "outputs": [],
   "source": [
    "\"\"\"\n",
    "Using sympy write the following function\n",
    "f (x,y,z) = x^2 + y^2 + z^2\n",
    "@TODO: Write the function\n",
    "\"\"\""
   ]
  },
  {
   "cell_type": "markdown",
   "metadata": {},
   "source": [
    "### Differentiate and integrate symbolic expressions\n",
    "\n",
    "You can differentiate and integrate symbolic expressions in `sympy` using the `diff()` and `integrate()` functions, respectively. Here's an example:\n",
    "\n",
    "```python\n",
    "import sympy as sp\n",
    "\n",
    "# Define symbolic variables\n",
    "\n",
    "x, y = sp.symbols('x y')\n",
    "\n",
    "# Create a symbolic expression\n",
    "\n",
    "expr = x**2 + y**2\n",
    "\n",
    "# Differentiate the expression with respect to x\n",
    "\n",
    "diff_expr = sp.diff(expr, x)\n",
    "\n",
    "print(diff_expr)\n",
    "\n",
    "# Integrate the expression with respect to x\n",
    "\n",
    "int_expr = sp.integrate(expr, x)\n",
    "\n",
    "print(int_expr)\n",
    "```"
   ]
  },
  {
   "cell_type": "code",
   "execution_count": null,
   "metadata": {},
   "outputs": [],
   "source": [
    "\"\"\"\n",
    "Using sympy derive the following function:\n",
    "f(x,y) = log((exp(x) + exp(y))^2) + x^2 + y^2\n",
    "@TODO: Derive the function\n",
    "\"\"\""
   ]
  },
  {
   "cell_type": "markdown",
   "metadata": {},
   "source": [
    "### How to create a Hessian matrix using `sympy`\n",
    "\n",
    "To create a Hessian matrix using `sympy`, you can use the 'hessian()' function. Here's an example:\n",
    "\n",
    "```python\n",
    "import sympy as sp\n",
    "\n",
    "# Define symbolic variables\n",
    "\n",
    "x, y = sp.symbols('x y')\n",
    "\n",
    "# Create a symbolic expression\n",
    "\n",
    "expr = x**2 + y**2\n",
    "\n",
    "variables = [1, 2]\n",
    "\n",
    "# Compute the Hessian matrix of the expression\n",
    "\n",
    "H = sp.hessian(expr, variables)\n",
    "\n",
    "print(H)\n",
    "```"
   ]
  },
  {
   "cell_type": "code",
   "execution_count": null,
   "metadata": {},
   "outputs": [],
   "source": [
    "\"\"\"\n",
    "Using hessian() from sympy find the hessian matrix of the following function:\n",
    "f(x,y) = x^2 + y^2 + x^2y + xy^2\n",
    "x_0 = 1, y_0 = 2\n",
    "\"\"\""
   ]
  },
  {
   "cell_type": "markdown",
   "metadata": {},
   "source": [
    "### How and when to use the `lambdify` function\n",
    "\n",
    "The `lambdify()` function in `sympy` is used to convert symbolic expressions into numerical functions. You can use the `lambdify()` function to create a function that can be evaluated at specific values. Here's an example:\n",
    "\n",
    "```python\n",
    "import sympy as sp\n",
    "\n",
    "# Define symbolic variables\n",
    "\n",
    "x, y = sp.symbols('x y')\n",
    "\n",
    "# Create a symbolic expression\n",
    "\n",
    "expr = x**2 + y**2\n",
    "\n",
    "# Create a function from the expression\n",
    "\n",
    "f = sp.lambdify((x, y), expr, 'numpy')\n",
    "\n",
    "# Evaluate the function at x=1, y=2\n",
    "\n",
    "result = f(1, 2)\n",
    "\n",
    "print(result)\n",
    "```"
   ]
  },
  {
   "cell_type": "code",
   "execution_count": null,
   "metadata": {},
   "outputs": [],
   "source": [
    "\"\"\"\n",
    "Using lambdify from sympy convert the following function to a numpy function:\n",
    "f(x) = x^2 + 10sin(x)\n",
    "@TODO: Convert the function\n",
    "\"\"\""
   ]
  },
  {
   "cell_type": "markdown",
   "metadata": {},
   "source": [
    "## Matplotlib\n",
    "\n",
    "Matplotlib is a Python library that is used for creating visualizations. It provides support for creating line plots, scatter plots, bar plots, histograms, and more. Matplotlib is widely used in data visualization, scientific computing, and machine learning.\n",
    "\n",
    "- How to create line plots in `matplotlib`\n",
    "- How to graph 2D functions in `matplotlib`\n",
    "- How to create contour plots in `matplotlib`\n",
    "- How to create surface plots in `matplotlib`"
   ]
  },
  {
   "cell_type": "markdown",
   "metadata": {},
   "source": [
    "### How to create line plots in `matplotlib`\n",
    "\n",
    "To create a line plot in `matplotlib`, you can use the `plt.plot()` function. You can pass the x and y values to the function to create a line plot. Here's an example:\n",
    "\n",
    "```python\n",
    "import matplotlib.pyplot as plt\n",
    "\n",
    "# Create x and y values\n",
    "\n",
    "x = [1, 2, 3, 4, 5]\n",
    "y = [1, 4, 9, 16, 25]\n",
    "\n",
    "# Create a line plot\n",
    "\n",
    "plt.plot(x, y)\n",
    "```"
   ]
  },
  {
   "cell_type": "code",
   "execution_count": null,
   "metadata": {},
   "outputs": [],
   "source": [
    "\"\"\"\n",
    "Create a line plot of the following arrays\n",
    "x = np.linspace(0, 10, 100)\n",
    "y = np.sin(x)\n",
    "@TODO: Create the plot\n",
    "\"\"\""
   ]
  },
  {
   "cell_type": "markdown",
   "metadata": {},
   "source": [
    "### How to graph 2D functions in `matplotlib`\n",
    "\n",
    "To create a line plot in `matplotlib`, you can use the `plt.plot()` function. You can pass the x and y values to the function to create a line plot. Here's an example:\n",
    "\n",
    "```python\n",
    "import matplotlib.pyplot as plt\n",
    "import numpy as np\n",
    "import sympy as sp\n",
    "\n",
    "# Define the symbolic variables\n",
    "\n",
    "x = sp.symbols('x')\n",
    "\n",
    "# Create a symbolic expression\n",
    "\n",
    "expr = x**2\n",
    "\n",
    "# Create a function from the expression\n",
    "\n",
    "f = sp.lambdify(x, expr, 'numpy')\n",
    "\n",
    "# Generate x values\n",
    "\n",
    "x_values = np.linspace(-10, 10, 100)\n",
    "\n",
    "# Generate y values\n",
    "\n",
    "y_values = f(x_values)\n",
    "\n",
    "# Create a line plot\n",
    "\n",
    "plt.plot(x_values, y_values)\n",
    "\n",
    "plt.show()\n",
    "```\n"
   ]
  },
  {
   "cell_type": "code",
   "execution_count": null,
   "metadata": {},
   "outputs": [],
   "source": [
    "\"\"\"\n",
    "Plot the following function\n",
    "f(x) = x^2 + 10sin(x)\n",
    "@TODO: Create the plot\n",
    "\"\"\""
   ]
  },
  {
   "cell_type": "markdown",
   "metadata": {},
   "source": [
    "### How to create contour plots in `matplotlib`\n",
    "\n",
    "To create a contour plot in `matplotlib`, you can use the `plt.contour()` function. You can pass the x and y values, as well as the z values, to the function to create a contour plot. Here's an example:\n",
    "\n",
    "```python\n",
    "import matplotlib.pyplot as plt\n",
    "import numpy as np\n",
    "\n",
    "# Create x and y values\n",
    "\n",
    "x = np.linspace(-10, 10, 100)\n",
    "y = np.linspace(-10, 10, 100)\n",
    "\n",
    "# Create a meshgrid\n",
    "\n",
    "X, Y = np.meshgrid(x, y)\n",
    "\n",
    "# Create z values\n",
    "\n",
    "Z = X**2 + Y**2\n",
    "\n",
    "# Create a contour plot\n",
    "\n",
    "plt.contour(X, Y, Z)\n",
    "```"
   ]
  },
  {
   "cell_type": "code",
   "execution_count": null,
   "metadata": {},
   "outputs": [],
   "source": [
    "\"\"\"\n",
    "Create a contour plot of the following function:\n",
    "f(x,y) = x^2 + y^2\n",
    "@TODO: Create the plot\n",
    "\"\"\""
   ]
  },
  {
   "cell_type": "markdown",
   "metadata": {},
   "source": [
    "### How to create surface plots in `matplotlib`\n",
    "\n",
    "To create a surface plot in `matplotlib`, you can use the `plt.plot_surface()` function. You can pass the x, y, and z values to the function to create a surface plot. Here's an example:\n",
    "\n",
    "```python\n",
    "import matplotlib.pyplot as plt\n",
    "import numpy as np\n",
    "\n",
    "# Create x and y values\n",
    "\n",
    "x = np.linspace(-10, 10, 100)\n",
    "y = np.linspace(-10, 10, 100)\n",
    "\n",
    "# Create a meshgrid\n",
    "\n",
    "X, Y = np.meshgrid(x, y)\n",
    "\n",
    "# Create z values\n",
    "\n",
    "Z = X**2 + Y**2\n",
    "\n",
    "# Create a surface plot\n",
    "\n",
    "ax = plt.axes(projection='3d')\n",
    "\n",
    "ax.plot_surface(X, Y, Z)\n",
    "```"
   ]
  },
  {
   "cell_type": "code",
   "execution_count": null,
   "metadata": {},
   "outputs": [],
   "source": [
    "\"\"\"\n",
    "Create a 3D plot of the following function:\n",
    "f(x,y) = x^2 + y^2\n",
    "@TODO: Create the plot\n",
    "\"\"\""
   ]
  },
  {
   "cell_type": "markdown",
   "metadata": {},
   "source": [
    "# Let's get started!\n",
    "\n",
    "Now that we have the algorithms defined, let's implement the Newton's method for 1D and 2D functions using Python.\n",
    "\n",
    "\n",
    "\n",
    "\n",
    "\n",
    "\n"
   ]
  },
  {
   "cell_type": "markdown",
   "metadata": {},
   "source": [
    "## Problem 1: 1D Newton's Method\n",
    "1. Plot the minimun and maximum values of the funciton:\n",
    "2. Graph all the points that $x_i$ takes in the process of finding the minimum value of the function.\n",
    "3. Do the same but now for $\\alpha = 0.6$\n",
    "$$ y = 3x^3 - 10x^2 + 56x + 50 $$\n",
    "\n",
    "The range of values for $x$ is $[-6, 6]$.\n"
   ]
  },
  {
   "cell_type": "code",
   "execution_count": null,
   "metadata": {},
   "outputs": [],
   "source": [
    "\"\"\"\n",
    "@TODO: Implement the 1D Newton's method and find\n",
    "the min and of the previous function\n",
    "\"\"\""
   ]
  },
  {
   "cell_type": "markdown",
   "metadata": {},
   "source": [
    "## Problem 2: 1D Newton's Method\n",
    "\n",
    "Design a script that shows and finds all the minimum and maximum values of the function using newton's method.\n",
    "\n",
    "$$ y = x^5 - 8x^3 + 10x + 6 $$\n",
    "\n",
    "The range of values for $x$ is $[-3, 3]$."
   ]
  },
  {
   "cell_type": "code",
   "execution_count": null,
   "metadata": {},
   "outputs": [],
   "source": [
    "\"\"\"\n",
    "@TODO: Create a script that using the 1D Newton's method\n",
    "finds all the min and max of the previous function\n",
    "within a given range\n",
    "\"\"\""
   ]
  },
  {
   "cell_type": "markdown",
   "metadata": {},
   "source": [
    "## Problem 3: 2D Newton's Method\n",
    "\n",
    "Create a algorithm based on the Newton's 2D method to find the minimum value of the function:\n",
    "\n",
    "$$ z = (x-1)^2 + 100(y-x^2)^2 $$\n",
    "\n",
    "The range of values for $x$ and $y$ is $y=[-10, 10]$ and $x=[-6, 6]$.\n",
    "\n",
    "**Note**: its recommended to set $$x_0=[2,11]$$"
   ]
  },
  {
   "cell_type": "code",
   "execution_count": null,
   "metadata": {},
   "outputs": [],
   "source": [
    "\"\"\"\n",
    "@TODO: Create a script that using the 2D Newton's method\n",
    "finds the min of the previous function\n",
    "\"\"\""
   ]
  }
 ],
 "metadata": {
  "kernelspec": {
   "display_name": "mos",
   "language": "python",
   "name": "python3"
  },
  "language_info": {
   "codemirror_mode": {
    "name": "ipython",
    "version": 3
   },
   "file_extension": ".py",
   "mimetype": "text/x-python",
   "name": "python",
   "nbconvert_exporter": "python",
   "pygments_lexer": "ipython3",
   "version": "3.12.2"
  }
 },
 "nbformat": 4,
 "nbformat_minor": 2
}
